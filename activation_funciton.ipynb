{
  "nbformat": 4,
  "nbformat_minor": 0,
  "metadata": {
    "colab": {
      "provenance": [],
      "authorship_tag": "ABX9TyMGkpsy976oa68v2Vjl69p+",
      "include_colab_link": true
    },
    "kernelspec": {
      "name": "python3",
      "display_name": "Python 3"
    },
    "language_info": {
      "name": "python"
    }
  },
  "cells": [
    {
      "cell_type": "markdown",
      "metadata": {
        "id": "view-in-github",
        "colab_type": "text"
      },
      "source": [
        "<a href=\"https://colab.research.google.com/github/Deltan2002/pytorch/blob/main/activation_funciton.ipynb\" target=\"_parent\"><img src=\"https://colab.research.google.com/assets/colab-badge.svg\" alt=\"Open In Colab\"/></a>"
      ]
    },
    {
      "cell_type": "code",
      "execution_count": 2,
      "metadata": {
        "id": "vsxShhOX5Kkt"
      },
      "outputs": [],
      "source": [
        "import torch\n",
        "import torch.nn.functional as F\n",
        "import torch.nn as nn"
      ]
    },
    {
      "cell_type": "code",
      "source": [
        "# option 1: create nn modules\n",
        "class NeuralNet(nn.Module):\n",
        "  def __init__(self, input_size, hidden_size):\n",
        "    super(NeuralNet, self).__init__()\n",
        "    self.linear1 = nn.Linear(input_size, hidden_size)\n",
        "    self.relu = nn.ReLu()\n",
        "    self.linear2 = nn.Linear(hidden_size, 1)\n",
        "    self.sigmoid = nn.Sigmoid()\n",
        "\n",
        "\n",
        "  def forward(self, x):\n",
        "    out = self.linear1(x)\n",
        "    out2 = self.relu(out)\n",
        "    out3 = self.linear2(out2)\n",
        "    out4 = self.sigmoid(out3)\n",
        "    return out4\n",
        "\n"
      ],
      "metadata": {
        "id": "B-4b57EJ6fXm"
      },
      "execution_count": 4,
      "outputs": []
    },
    {
      "cell_type": "code",
      "source": [
        "# option 2: use activation functions directly in forward pass\n",
        "\n",
        "class NeuralNet(nn.Module):\n",
        "  def __init__(self, input_size, hidden_size):\n",
        "    self.linear1 = nn.Linear(input_size, hidden_size)\n",
        "    self.inear2 =  nn.Linear(hidden_size, 1)\n",
        "\n",
        "  def forward(self,x):\n",
        "    out = F.relu(self.linear1(x))\n",
        "    out = F.sigmoid(self.linear2(out))\n",
        "    return out"
      ],
      "metadata": {
        "id": "XQ74yXRl7_Rb"
      },
      "execution_count": null,
      "outputs": []
    }
  ]
}