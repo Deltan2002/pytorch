{
  "nbformat": 4,
  "nbformat_minor": 0,
  "metadata": {
    "colab": {
      "provenance": [],
      "authorship_tag": "ABX9TyOWALKudYWCtEls/KjZ3OCF",
      "include_colab_link": true
    },
    "kernelspec": {
      "name": "python3",
      "display_name": "Python 3"
    },
    "language_info": {
      "name": "python"
    }
  },
  "cells": [
    {
      "cell_type": "markdown",
      "metadata": {
        "id": "view-in-github",
        "colab_type": "text"
      },
      "source": [
        "<a href=\"https://colab.research.google.com/github/Deltan2002/pytorch/blob/main/gradient_descent_numpy.ipynb\" target=\"_parent\"><img src=\"https://colab.research.google.com/assets/colab-badge.svg\" alt=\"Open In Colab\"/></a>"
      ]
    },
    {
      "cell_type": "code",
      "execution_count": 33,
      "metadata": {
        "id": "w3jehnXwom5h"
      },
      "outputs": [],
      "source": [
        "import numpy as np"
      ]
    },
    {
      "cell_type": "code",
      "source": [
        "# f = w*x\n",
        "# f = 2 * x\n",
        "X = np.array([1,2,3,4],dtype=np.float32)\n",
        "Y = np.array([2,4,6,8],dtype=np.float32)\n",
        "\n",
        "w = 0.0"
      ],
      "metadata": {
        "id": "Tqs0WA6eor6c"
      },
      "execution_count": 34,
      "outputs": []
    },
    {
      "cell_type": "code",
      "source": [
        "# calculate model prediction\n",
        "def forward(x):\n",
        "  return w*x"
      ],
      "metadata": {
        "id": "4D6-5MsSpAp5"
      },
      "execution_count": 35,
      "outputs": []
    },
    {
      "cell_type": "code",
      "source": [
        "# loss = MSE\n",
        "def loss(y,y_predicted):\n",
        "  return ((y_predicted-y)**2).mean()"
      ],
      "metadata": {
        "id": "jPqxvGPnpJEO"
      },
      "execution_count": 36,
      "outputs": []
    },
    {
      "cell_type": "code",
      "source": [
        "# gradient\n",
        "# MSE = 1/N * (w * x - y)**2\n",
        "#dJ/dw = 1/N 2x(w*x - y)\n",
        "def gradient(x,y,y_predicted):\n",
        "  return np.dot(2*x,y_predicted-y).mean()\n",
        "\n",
        "print(f'Prediction before training: f(5)= {forward(5):.3f}')\n"
      ],
      "metadata": {
        "colab": {
          "base_uri": "https://localhost:8080/"
        },
        "id": "bzq39wL9pVBz",
        "outputId": "769f0b31-c018-453c-9339-8e90f37890a5"
      },
      "execution_count": 37,
      "outputs": [
        {
          "output_type": "stream",
          "name": "stdout",
          "text": [
            "Prediction before training: f(5)= 0.000\n"
          ]
        }
      ]
    },
    {
      "cell_type": "code",
      "source": [
        "# Training\n",
        "learning_rate = 0.01\n",
        "n_iters = 10\n",
        "\n",
        "for epoch in range(n_iters):\n",
        "  #prediction = forward pass\n",
        "  y_pred = forward(X)\n",
        "\n",
        "  #loss\n",
        "  l = loss(Y, y_pred)\n",
        "\n",
        "  #gradients\n",
        "  dw = gradient(X,Y,y_pred)\n",
        "\n",
        "\n",
        "  #update weights\n",
        "  w-=learning_rate * dw\n",
        "\n",
        "  if epoch % 1 ==0:\n",
        "    print(f'epoch {epoch+1}:w = {w:.3f}, loss={l:.8f}')\n",
        "\n",
        "print(f'Prediction after training: f(5)= {forward(5):.3f}')\n"
      ],
      "metadata": {
        "colab": {
          "base_uri": "https://localhost:8080/"
        },
        "id": "PW_mTwj9p9M0",
        "outputId": "13c4d503-9b5a-451c-99a4-a45482abe4b7"
      },
      "execution_count": 38,
      "outputs": [
        {
          "output_type": "stream",
          "name": "stdout",
          "text": [
            "epoch 1:w = 1.200, loss=30.00000000\n",
            "epoch 2:w = 1.680, loss=4.79999924\n",
            "epoch 3:w = 1.872, loss=0.76800019\n",
            "epoch 4:w = 1.949, loss=0.12288000\n",
            "epoch 5:w = 1.980, loss=0.01966083\n",
            "epoch 6:w = 1.992, loss=0.00314574\n",
            "epoch 7:w = 1.997, loss=0.00050331\n",
            "epoch 8:w = 1.999, loss=0.00008053\n",
            "epoch 9:w = 1.999, loss=0.00001288\n",
            "epoch 10:w = 2.000, loss=0.00000206\n",
            "Prediction after training: f(5)= 9.999\n"
          ]
        }
      ]
    }
  ]
}