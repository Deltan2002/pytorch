{
  "nbformat": 4,
  "nbformat_minor": 0,
  "metadata": {
    "colab": {
      "provenance": [],
      "authorship_tag": "ABX9TyMK/P8yiX4pazvDBaTZOatb",
      "include_colab_link": true
    },
    "kernelspec": {
      "name": "python3",
      "display_name": "Python 3"
    },
    "language_info": {
      "name": "python"
    }
  },
  "cells": [
    {
      "cell_type": "markdown",
      "metadata": {
        "id": "view-in-github",
        "colab_type": "text"
      },
      "source": [
        "<a href=\"https://colab.research.google.com/github/Deltan2002/pytorch/blob/main/gradient_descent_torch.ipynb\" target=\"_parent\"><img src=\"https://colab.research.google.com/assets/colab-badge.svg\" alt=\"Open In Colab\"/></a>"
      ]
    },
    {
      "cell_type": "code",
      "execution_count": 5,
      "metadata": {
        "id": "D_yjTdfGsshV"
      },
      "outputs": [],
      "source": [
        "import  torch"
      ]
    },
    {
      "cell_type": "code",
      "source": [
        "X = torch.tensor([1,2,3,4], dtype=torch.float32)\n",
        "Y = torch.tensor([2,4,6,8], dtype=torch.float32)\n",
        "\n",
        "w = torch.tensor(0.0, dtype=torch.float32,requires_grad=True)"
      ],
      "metadata": {
        "id": "ywXn6vDHs1dj"
      },
      "execution_count": 6,
      "outputs": []
    },
    {
      "cell_type": "code",
      "source": [
        "def forward(x):\n",
        "  return w*x"
      ],
      "metadata": {
        "id": "XLFMZ6ActP5k"
      },
      "execution_count": 7,
      "outputs": []
    },
    {
      "cell_type": "code",
      "source": [
        "def loss(y,y_predicted):\n",
        "  return((y_predicted-y)**2).mean()\n",
        "\n",
        "print(f'Prediction before training: f(5)= {forward(5):.3f}')\n"
      ],
      "metadata": {
        "colab": {
          "base_uri": "https://localhost:8080/"
        },
        "id": "2CyGC-Z8tXR1",
        "outputId": "60768d8a-a14c-41c0-e511-faeb8e4a2a60"
      },
      "execution_count": 8,
      "outputs": [
        {
          "output_type": "stream",
          "name": "stdout",
          "text": [
            "Prediction before training: f(5)= 0.000\n"
          ]
        }
      ]
    },
    {
      "cell_type": "code",
      "source": [
        "lr = 0.01\n",
        "n_iters=100\n",
        "\n",
        "for epoch in range(n_iters):\n",
        "  #prediction = forwrd pass\n",
        "  y_pred =forward(X)\n",
        "\n",
        "  #loss\n",
        "  l = loss(Y,y_pred)\n",
        "\n",
        "  #gradients = backward pass\n",
        "  l.backward() #dl/dw\n",
        "\n",
        "  # update weights\n",
        "  with torch.no_grad():\n",
        "    w-=lr * w.grad\n",
        "\n",
        "\n",
        "  # zero gradients\n",
        "  w.grad.zero_()\n",
        "\n",
        "  if epoch % 2 ==0:\n",
        "    print(f'epoch {epoch+1}:w = {w:.3f}, loss={l:.8f}')\n",
        "\n",
        "print(f'Prediction after training: f(5)= {forward(5):.3f}')\n"
      ],
      "metadata": {
        "colab": {
          "base_uri": "https://localhost:8080/"
        },
        "id": "rzO-GP1Ito8G",
        "outputId": "f0c0ed6d-b786-43f7-c60f-d00b8f5ed72e"
      },
      "execution_count": 11,
      "outputs": [
        {
          "output_type": "stream",
          "name": "stdout",
          "text": [
            "epoch 1:w = 2.000, loss=0.00000000\n",
            "epoch 3:w = 2.000, loss=0.00000000\n",
            "epoch 5:w = 2.000, loss=0.00000000\n",
            "epoch 7:w = 2.000, loss=0.00000000\n",
            "epoch 9:w = 2.000, loss=0.00000000\n",
            "epoch 11:w = 2.000, loss=0.00000000\n",
            "epoch 13:w = 2.000, loss=0.00000000\n",
            "epoch 15:w = 2.000, loss=0.00000000\n",
            "epoch 17:w = 2.000, loss=0.00000000\n",
            "epoch 19:w = 2.000, loss=0.00000000\n",
            "epoch 21:w = 2.000, loss=0.00000000\n",
            "epoch 23:w = 2.000, loss=0.00000000\n",
            "epoch 25:w = 2.000, loss=0.00000000\n",
            "epoch 27:w = 2.000, loss=0.00000000\n",
            "epoch 29:w = 2.000, loss=0.00000000\n",
            "epoch 31:w = 2.000, loss=0.00000000\n",
            "epoch 33:w = 2.000, loss=0.00000000\n",
            "epoch 35:w = 2.000, loss=0.00000000\n",
            "epoch 37:w = 2.000, loss=0.00000000\n",
            "epoch 39:w = 2.000, loss=0.00000000\n",
            "epoch 41:w = 2.000, loss=0.00000000\n",
            "epoch 43:w = 2.000, loss=0.00000000\n",
            "epoch 45:w = 2.000, loss=0.00000000\n",
            "epoch 47:w = 2.000, loss=0.00000000\n",
            "epoch 49:w = 2.000, loss=0.00000000\n",
            "epoch 51:w = 2.000, loss=0.00000000\n",
            "epoch 53:w = 2.000, loss=0.00000000\n",
            "epoch 55:w = 2.000, loss=0.00000000\n",
            "epoch 57:w = 2.000, loss=0.00000000\n",
            "epoch 59:w = 2.000, loss=0.00000000\n",
            "epoch 61:w = 2.000, loss=0.00000000\n",
            "epoch 63:w = 2.000, loss=0.00000000\n",
            "epoch 65:w = 2.000, loss=0.00000000\n",
            "epoch 67:w = 2.000, loss=0.00000000\n",
            "epoch 69:w = 2.000, loss=0.00000000\n",
            "epoch 71:w = 2.000, loss=0.00000000\n",
            "epoch 73:w = 2.000, loss=0.00000000\n",
            "epoch 75:w = 2.000, loss=0.00000000\n",
            "epoch 77:w = 2.000, loss=0.00000000\n",
            "epoch 79:w = 2.000, loss=0.00000000\n",
            "epoch 81:w = 2.000, loss=0.00000000\n",
            "epoch 83:w = 2.000, loss=0.00000000\n",
            "epoch 85:w = 2.000, loss=0.00000000\n",
            "epoch 87:w = 2.000, loss=0.00000000\n",
            "epoch 89:w = 2.000, loss=0.00000000\n",
            "epoch 91:w = 2.000, loss=0.00000000\n",
            "epoch 93:w = 2.000, loss=0.00000000\n",
            "epoch 95:w = 2.000, loss=0.00000000\n",
            "epoch 97:w = 2.000, loss=0.00000000\n",
            "epoch 99:w = 2.000, loss=0.00000000\n",
            "Prediction after training: f(5)= 10.000\n"
          ]
        }
      ]
    }
  ]
}