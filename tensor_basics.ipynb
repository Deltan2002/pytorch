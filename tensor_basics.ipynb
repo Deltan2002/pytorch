{
  "nbformat": 4,
  "nbformat_minor": 0,
  "metadata": {
    "colab": {
      "provenance": [],
      "authorship_tag": "ABX9TyOAEEV3GIX/wh0DJvY54xGG",
      "include_colab_link": true
    },
    "kernelspec": {
      "name": "python3",
      "display_name": "Python 3"
    },
    "language_info": {
      "name": "python"
    }
  },
  "cells": [
    {
      "cell_type": "markdown",
      "metadata": {
        "id": "view-in-github",
        "colab_type": "text"
      },
      "source": [
        "<a href=\"https://colab.research.google.com/github/Deltan2002/pytorch/blob/main/tensor_basics.ipynb\" target=\"_parent\"><img src=\"https://colab.research.google.com/assets/colab-badge.svg\" alt=\"Open In Colab\"/></a>"
      ]
    },
    {
      "cell_type": "code",
      "execution_count": 3,
      "metadata": {
        "id": "TJXHnVPwFu_p"
      },
      "outputs": [],
      "source": [
        "import torch\n"
      ]
    },
    {
      "cell_type": "code",
      "source": [
        "x = torch.empty(2,2)\n",
        "x"
      ],
      "metadata": {
        "colab": {
          "base_uri": "https://localhost:8080/"
        },
        "id": "Cv7oejBnFweu",
        "outputId": "b906e415-9e5d-43a6-b3ab-93c91b7fac1c"
      },
      "execution_count": 15,
      "outputs": [
        {
          "output_type": "execute_result",
          "data": {
            "text/plain": [
              "tensor([[2.3205e-02, 3.1735e-41],\n",
              "        [2.3018e-02, 3.1735e-41]])"
            ]
          },
          "metadata": {},
          "execution_count": 15
        }
      ]
    },
    {
      "cell_type": "code",
      "source": [
        "x = torch.rand(2,2)\n",
        "x"
      ],
      "metadata": {
        "colab": {
          "base_uri": "https://localhost:8080/"
        },
        "id": "HPKSalC7JqW6",
        "outputId": "682f1974-e755-4cd4-ed4f-1631b81389c1"
      },
      "execution_count": 16,
      "outputs": [
        {
          "output_type": "execute_result",
          "data": {
            "text/plain": [
              "tensor([[0.5865, 0.3573],\n",
              "        [0.3434, 0.4016]])"
            ]
          },
          "metadata": {},
          "execution_count": 16
        }
      ]
    },
    {
      "cell_type": "code",
      "source": [
        "x = torch.zeros(2,2)\n",
        "x"
      ],
      "metadata": {
        "colab": {
          "base_uri": "https://localhost:8080/"
        },
        "id": "q76W_yaFJtl4",
        "outputId": "f4ff47bf-1ac5-4676-95b7-1133258c09bc"
      },
      "execution_count": 18,
      "outputs": [
        {
          "output_type": "execute_result",
          "data": {
            "text/plain": [
              "tensor([[0., 0.],\n",
              "        [0., 0.]])"
            ]
          },
          "metadata": {},
          "execution_count": 18
        }
      ]
    },
    {
      "cell_type": "code",
      "source": [
        "x = torch.ones(2,2)\n",
        "x\n",
        "print(x.dtype)"
      ],
      "metadata": {
        "colab": {
          "base_uri": "https://localhost:8080/"
        },
        "id": "A8iSA0TtJzx_",
        "outputId": "c9dda71e-c14c-4ac2-8cdb-1e53108f6a55"
      },
      "execution_count": 21,
      "outputs": [
        {
          "output_type": "stream",
          "name": "stdout",
          "text": [
            "torch.float32\n"
          ]
        }
      ]
    },
    {
      "cell_type": "code",
      "source": [
        "x = torch.ones(2,2,dtype=torch.double)\n",
        "print(x.dtype)\n",
        "print(x.size())"
      ],
      "metadata": {
        "colab": {
          "base_uri": "https://localhost:8080/"
        },
        "id": "gbB89CZfJ4nq",
        "outputId": "b9d79f02-12b7-439d-d682-22ef985fffb6"
      },
      "execution_count": 25,
      "outputs": [
        {
          "output_type": "stream",
          "name": "stdout",
          "text": [
            "torch.float64\n",
            "torch.Size([2, 2])\n"
          ]
        }
      ]
    },
    {
      "cell_type": "code",
      "source": [
        "x = torch.tensor([2.3,0.1])\n",
        "x"
      ],
      "metadata": {
        "colab": {
          "base_uri": "https://localhost:8080/"
        },
        "id": "p47s058bKHtn",
        "outputId": "0774d636-27ed-4096-8bcc-5532a2a1ac32"
      },
      "execution_count": 26,
      "outputs": [
        {
          "output_type": "execute_result",
          "data": {
            "text/plain": [
              "tensor([2.3000, 0.1000])"
            ]
          },
          "metadata": {},
          "execution_count": 26
        }
      ]
    },
    {
      "cell_type": "code",
      "source": [
        "x = torch.rand(2,2)\n",
        "y = torch.rand(2,2)\n",
        "print(x)\n",
        "print(y)\n",
        "\n",
        "# z = x+y\n",
        "# a = torch.add(x,y)\n",
        "# print()\n",
        "# print(a)\n",
        "# print(z)\n",
        "\n",
        "# print()\n",
        "\n",
        "# y.add_(x)  #inplace addition,modifies y\n",
        "# print(y)\n",
        "\n",
        "\n",
        "\n",
        "##### subtract\n",
        "\n",
        "# z = x-y\n",
        "# a = torch.sub(x,y)\n",
        "# print(z)\n",
        "# print(a)\n",
        "# print()\n",
        "\n",
        "# y.sub_(x)\n",
        "# print(y)\n",
        "\n",
        "\n",
        "# mul, div"
      ],
      "metadata": {
        "colab": {
          "base_uri": "https://localhost:8080/"
        },
        "id": "Cr3Ho8wzKZ8L",
        "outputId": "5b41589f-70e0-4c4e-a48f-6d26359b8fb4"
      },
      "execution_count": 43,
      "outputs": [
        {
          "output_type": "stream",
          "name": "stdout",
          "text": [
            "tensor([[0.9273, 0.5544],\n",
            "        [0.4011, 0.1706]])\n",
            "tensor([[0.3861, 0.1418],\n",
            "        [0.9570, 0.7355]])\n",
            "tensor([[-0.5413, -0.4126],\n",
            "        [ 0.5559,  0.5649]])\n"
          ]
        }
      ]
    },
    {
      "cell_type": "code",
      "source": [
        "x = torch.rand(5,3)\n",
        "print(x)\n",
        "print(x[:,0]) # all rows, but only first column [indexing from 0]\n",
        "print(x[1,:]) # second row, all cols\n",
        "print(x[1,1])\n",
        "print(x[1,1].item()) #gives actual value\n",
        "\n"
      ],
      "metadata": {
        "colab": {
          "base_uri": "https://localhost:8080/"
        },
        "id": "Yy18gPQ4Khfr",
        "outputId": "dc53a9e8-754e-440e-bec7-71f9dfbd1a7f"
      },
      "execution_count": 50,
      "outputs": [
        {
          "output_type": "stream",
          "name": "stdout",
          "text": [
            "tensor([[0.4621, 0.9482, 0.5305],\n",
            "        [0.9270, 0.9701, 0.3263],\n",
            "        [0.5192, 0.5657, 0.4723],\n",
            "        [0.9239, 0.0769, 0.5973],\n",
            "        [0.5776, 0.1914, 0.9071]])\n",
            "tensor([0.4621, 0.9270, 0.5192, 0.9239, 0.5776])\n",
            "tensor([0.9270, 0.9701, 0.3263])\n",
            "tensor(0.9701)\n",
            "0.9701188802719116\n"
          ]
        }
      ]
    },
    {
      "cell_type": "code",
      "source": [
        "#reshaping\n",
        "\n",
        "x = torch.rand(4,4)\n",
        "print(x)\n",
        "y = x.view(16)\n",
        "print(y)\n",
        "print(y.size())\n",
        "print()\n",
        "\n",
        "\n",
        "y = x.view(-1,8)\n",
        "print(y)\n",
        "print(y.size())\n",
        "\n"
      ],
      "metadata": {
        "colab": {
          "base_uri": "https://localhost:8080/"
        },
        "id": "OUIXsoKQMfVl",
        "outputId": "1a175d4f-b738-4370-ecf9-28be7322b811"
      },
      "execution_count": 63,
      "outputs": [
        {
          "output_type": "stream",
          "name": "stdout",
          "text": [
            "tensor([[0.8812, 0.5028, 0.7499, 0.0895],\n",
            "        [0.1948, 0.0399, 0.9609, 0.8579],\n",
            "        [0.1330, 0.2945, 0.4310, 0.9879],\n",
            "        [0.9941, 0.7354, 0.8814, 0.1104]])\n",
            "tensor([0.8812, 0.5028, 0.7499, 0.0895, 0.1948, 0.0399, 0.9609, 0.8579, 0.1330,\n",
            "        0.2945, 0.4310, 0.9879, 0.9941, 0.7354, 0.8814, 0.1104])\n",
            "torch.Size([16])\n",
            "\n",
            "tensor([[0.8812, 0.5028, 0.7499, 0.0895, 0.1948, 0.0399, 0.9609, 0.8579],\n",
            "        [0.1330, 0.2945, 0.4310, 0.9879, 0.9941, 0.7354, 0.8814, 0.1104]])\n",
            "torch.Size([2, 8])\n"
          ]
        }
      ]
    },
    {
      "cell_type": "code",
      "source": [
        "#converting numpy array to tensor and vice versa\n",
        "import numpy as np\n",
        "a = torch.ones(5)\n",
        "print(a)\n",
        "b = a.numpy()\n",
        "print(b)\n",
        "print(type(b))\n",
        "\n",
        "print(\"#############\")\n",
        "a  = np.ones(5)\n",
        "print(a)\n",
        "b = torch.from_numpy(a)\n",
        "print(b)\n",
        "print(b.dtype)\n"
      ],
      "metadata": {
        "colab": {
          "base_uri": "https://localhost:8080/"
        },
        "id": "G3Dc_uIvNzpJ",
        "outputId": "d2b2b026-ec46-40d8-a841-45f013b90122"
      },
      "execution_count": 69,
      "outputs": [
        {
          "output_type": "stream",
          "name": "stdout",
          "text": [
            "tensor([1., 1., 1., 1., 1.])\n",
            "[1. 1. 1. 1. 1.]\n",
            "<class 'numpy.ndarray'>\n",
            "#############\n",
            "[1. 1. 1. 1. 1.]\n",
            "tensor([1., 1., 1., 1., 1.], dtype=torch.float64)\n",
            "torch.float64\n"
          ]
        }
      ]
    },
    {
      "cell_type": "code",
      "source": [],
      "metadata": {
        "id": "0VDEbBZ4OGqr"
      },
      "execution_count": null,
      "outputs": []
    }
  ]
}